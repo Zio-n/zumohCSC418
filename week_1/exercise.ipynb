{
 "cells": [
  {
   "cell_type": "code",
   "execution_count": 1,
   "metadata": {},
   "outputs": [],
   "source": [
    "import cv2"
   ]
  },
  {
   "cell_type": "code",
   "execution_count": 2,
   "metadata": {},
   "outputs": [],
   "source": [
    "allowed_users = {\n",
    "    \"okonedo\": {\"password\": 7, \"description\": \"Professor Enase Okonedo, FCA, is the Vice-Chancellor of Pan-Atlantic University, Lagos, Nigeria. Prior to this, she was the Deputy Vice-Chancellor of the University from 2020 - 2021.\", \"image\": \"okonedo.jpg\"},\n",
    "    \"ogbechie\": {\"password\": 8, \"description\": \"Chris Ogbechie is a Professor of Strategic Management and the Dean at Lagos Business School, Pan-Atlantic University.\", \"image\": \"ogbechie.jpg\"}, \n",
    "    \"ogbuike\": {\"password\": 7, \"description\": \"Mr. Ogbuike is a Fellow of the Institute of Chartered Accountants of Nigeria with more than 26 years of post-qualification experience.\", \"image\": \"ogbuike.png\"},\n",
    "    \"obiaya\": {\"password\": 6, \"description\": \"Dr Ikechukwu Obiaya the Dean of the School of Media and Communication, Pan-Atlantic University. He has an impressive background and extensive experience in academia.\", \"image\": \"obiaya.jpg\"},\n",
    "    \"oni\": {\"password\": 3, \"description\": \"Dr. Oni is an Information Systems professional with experience in analysing the impact of the digital world on business operations at every level.\", \"image\": \"oni.jpg\"},\n",
    "    \"agholor\": {\"password\": 3, \"description\":\"Dr Agholor joined Pan-Atlantic University in 2016 as a member of the SMSS faculty of the School of Management and Social Sciences where he taught Leadership and Elements of Management.\", \"image\": \"agholor.jpg\"},\n",
    "    \"okekearu\": {\"password\": 8, \"description\": \"Mrs Nneka Okekearu is currently the Director of the Enterprise Development Centre, Pan-Atlantic University.\", \"image\": \"okekearu.png\"},\n",
    "    \"onaga\": {\"password\": 5, \"description\": \"Dr. Adaora Ijeoma Onaga is the Director of the Institute of Humanities, Pan-Atlantic University (PAU).\", \"image\": \"onaga.jpg\"},\n",
    "    \"bamkole\": {\"password\": 7, \"description\": \"Dr. Peter Bamkole is the Chief Operating Officer at Pan-Atlantic University. Prior to his appointment in January 2023, he pioneered the Enterprise Development Centre (EDC) of the Pan-Atlantic University in January 2003 – now one of the top enterprise development centers in Africa.\", \"image\": \"bamkole.jpg\"}\n",
    "}"
   ]
  },
  {
   "cell_type": "code",
   "execution_count": 3,
   "metadata": {},
   "outputs": [],
   "source": [
    "def calculate_password(surname):\n",
    "    return sum(1 for char in surname if char.isalpha())\n"
   ]
  },
  {
   "cell_type": "code",
   "execution_count": 4,
   "metadata": {},
   "outputs": [],
   "source": [
    "def display_user_info(image_path, username, description):\n",
    "    # Load the image\n",
    "    image = cv2.imread(image_path)\n",
    "    \n",
    "    # Display image\n",
    "    cv2.imshow(\"User Profile Image\", image)\n",
    "    cv2.waitKey(0)\n",
    "    cv2.destroyAllWindows()\n",
    "\n",
    "    # Display user info\n",
    "    print(\"Username:\", username)\n",
    "    print(\"Description:\", description)\n",
    "    "
   ]
  },
  {
   "cell_type": "code",
   "execution_count": 5,
   "metadata": {},
   "outputs": [],
   "source": [
    "def login():\n",
    "    while True:\n",
    "        username = input(\"Enter username (last name): \")\n",
    "        \n",
    "        if username not in allowed_users:\n",
    "            print(\"User not found. Please try again.\")\n",
    "            continue\n",
    "        \n",
    "        password = input(\"Enter password: \")\n",
    "        expected_password = calculate_password(username)\n",
    "        \n",
    "        if int(password) != expected_password:\n",
    "            print(\"Incorrect password. Please try again.\")\n",
    "            continue\n",
    "        \n",
    "        print(\"Login successful!\")\n",
    "        break\n",
    "    return username\n"
   ]
  },
  {
   "cell_type": "code",
   "execution_count": 6,
   "metadata": {},
   "outputs": [],
   "source": [
    "def main():\n",
    "    # Skip face recognition since it's not needed anymore\n",
    "    # username = input(\"Enter your username (last name): \")\n",
    "    logged_user = login()\n",
    "    description = allowed_users[logged_user][\"description\"]\n",
    "    image_path = f\"images/profiles/{allowed_users[logged_user]['image']}\"\n",
    "    print(image_path)\n",
    "    display_user_info(image_path, logged_user, description)\n",
    "    # login()\n"
   ]
  },
  {
   "cell_type": "code",
   "execution_count": 7,
   "metadata": {},
   "outputs": [
    {
     "name": "stdout",
     "output_type": "stream",
     "text": [
      "Login successful!\n",
      "images/profiles/oni.jpg\n",
      "Username: oni\n",
      "Description: Dr. Oni is an Information Systems professional with experience in analysing the impact of the digital world on business operations at every level.\n"
     ]
    }
   ],
   "source": [
    "main()"
   ]
  }
 ],
 "metadata": {
  "kernelspec": {
   "display_name": "env",
   "language": "python",
   "name": "python3"
  },
  "language_info": {
   "codemirror_mode": {
    "name": "ipython",
    "version": 3
   },
   "file_extension": ".py",
   "mimetype": "text/x-python",
   "name": "python",
   "nbconvert_exporter": "python",
   "pygments_lexer": "ipython3",
   "version": "3.10.11"
  }
 },
 "nbformat": 4,
 "nbformat_minor": 2
}
