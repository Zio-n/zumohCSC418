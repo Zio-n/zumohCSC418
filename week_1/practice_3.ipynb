{
 "cells": [
  {
   "cell_type": "markdown",
   "metadata": {},
   "source": [
    "## Imports"
   ]
  },
  {
   "cell_type": "code",
   "execution_count": 1,
   "metadata": {},
   "outputs": [],
   "source": [
    "import cv2\n",
    "import os"
   ]
  },
  {
   "cell_type": "code",
   "execution_count": 6,
   "metadata": {},
   "outputs": [],
   "source": [
    "image_path = r'C:\\Users\\user\\Documents\\work\\zumohCSC418\\week_1\\images\\lagos.jpg'\n",
    "\n",
    "image_dir = r'C:\\Users\\user\\Documents\\work\\zumohCSC418\\week_1\\images'\n",
    "\n",
    "# Reading the image using imread() function\n",
    "img = cv2.imread(image_path, 0)\n",
    "\n",
    "# Change the current directory to specified directory\n",
    "os.chdir(image_dir)"
   ]
  },
  {
   "cell_type": "code",
   "execution_count": 7,
   "metadata": {},
   "outputs": [
    {
     "name": "stdout",
     "output_type": "stream",
     "text": [
      "Before Saving the image:\n",
      "['lagos.jpg']\n",
      "After Saving the image:\n",
      "['lagos.jpg']\n",
      "Successfully saved the image\n"
     ]
    }
   ],
   "source": [
    "print(\"Before Saving the image:\")\n",
    "print(os.listdir(image_dir))\n",
    "\n",
    "filename = \"lagos.jpg\"\n",
    "\n",
    "cv2.imwrite(filename,img)\n",
    "\n",
    "print(\"After Saving the image:\")\n",
    "print(os.listdir(image_dir))\n",
    "\n",
    "print(\"Successfully saved the image\")"
   ]
  }
 ],
 "metadata": {
  "kernelspec": {
   "display_name": "env",
   "language": "python",
   "name": "python3"
  },
  "language_info": {
   "codemirror_mode": {
    "name": "ipython",
    "version": 3
   },
   "file_extension": ".py",
   "mimetype": "text/x-python",
   "name": "python",
   "nbconvert_exporter": "python",
   "pygments_lexer": "ipython3",
   "version": "3.10.11"
  }
 },
 "nbformat": 4,
 "nbformat_minor": 2
}
